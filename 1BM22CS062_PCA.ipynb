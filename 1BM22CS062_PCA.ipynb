{
  "nbformat": 4,
  "nbformat_minor": 0,
  "metadata": {
    "colab": {
      "provenance": [],
      "authorship_tag": "ABX9TyOpTI8s7yCsima5rzcObBZq",
      "include_colab_link": true
    },
    "kernelspec": {
      "name": "python3",
      "display_name": "Python 3"
    },
    "language_info": {
      "name": "python"
    }
  },
  "cells": [
    {
      "cell_type": "markdown",
      "metadata": {
        "id": "view-in-github",
        "colab_type": "text"
      },
      "source": [
        "<a href=\"https://colab.research.google.com/github/AymanKhan97/ML-LAB/blob/main/1BM22CS062_PCA.ipynb\" target=\"_parent\"><img src=\"https://colab.research.google.com/assets/colab-badge.svg\" alt=\"Open In Colab\"/></a>"
      ]
    },
    {
      "cell_type": "code",
      "execution_count": null,
      "metadata": {
        "id": "JkYpt5mvOxLJ"
      },
      "outputs": [],
      "source": [
        "import numpy as np\n",
        "import pandas as pd\n",
        "import matplotlib.pyplot as plt\n",
        "from sklearn.preprocessing import StandardScaler\n",
        "import sys\n",
        "import os\n",
        "\n",
        "def pca_from_path(file_path, k=2, label_column=None):\n",
        "    if not os.path.exists(file_path):\n",
        "        print(f\"File not found: {file_path}\")\n",
        "        return\n",
        "\n",
        "    # Load dataset\n",
        "    df = pd.read_csv(file_path)\n",
        "\n",
        "    # Optional: separate labels\n",
        "    if label_column and label_column in df.columns:\n",
        "        y = df[label_column].values\n",
        "        X = df.drop(columns=[label_column]).values\n",
        "    else:\n",
        "        y = None\n",
        "        X = df.values\n",
        "\n",
        "    # Standardize features\n",
        "    scaler = StandardScaler()\n",
        "    X_std = scaler.fit_transform(X)\n",
        "\n",
        "    # Covariance matrix\n",
        "    cov_matrix = np.cov(X_std.T)\n",
        "\n",
        "    # Eigen decomposition\n",
        "    eigen_values, eigen_vectors = np.linalg.eig(cov_matrix)\n",
        "\n",
        "    # Sort by eigenvalues in descending order\n",
        "    sorted_idx = np.argsort(eigen_values)[::-1]\n",
        "    eigen_vectors = eigen_vectors[:, sorted_idx]\n",
        "    eigen_values = eigen_values[sorted_idx]\n",
        "\n",
        "    # Project data\n",
        "    W = eigen_vectors[:, :k]\n",
        "    X_pca = X_std.dot(W)\n",
        "\n",
        "    # Display results\n",
        "    print(f\"Original shape: {X.shape}\")\n",
        "    print(f\"Reduced shape: {X_pca.shape}\")\n",
        "\n",
        "    # Plot only if reduced to 2D\n",
        "    if k == 2:\n",
        "        plt.figure(figsize=(8, 6))\n",
        "        if y is not None:\n",
        "            for label in np.unique(y):\n",
        "                plt.scatter(X_pca[y == label, 0], X_pca[y == label, 1], label=str(label))\n",
        "            plt.legend()\n",
        "        else:\n",
        "            plt.scatter(X_pca[:, 0], X_pca[:, 1])\n",
        "        plt.title('PCA Result (2D Projection)')\n",
        "        plt.xlabel('Principal Component 1')\n",
        "        plt.ylabel('Principal Component 2')\n",
        "        plt.grid(True)\n",
        "        plt.show()\n",
        "\n",
        "    return X_pca\n",
        "\n",
        "# Example usage\n",
        "if __name__ == \"__main__\":\n",
        "    file_path = input(\"Enter path to CSV dataset: \")\n",
        "    label_column = input(\"Enter label column name (or press Enter if none): \").strip()\n",
        "    label_column = label_column if label_column else None\n",
        "    k = input(\"Enter number of dimensions to reduce to (default=2): \").strip()\n",
        "    k = int(k) if k else 2\n",
        "\n",
        "    pca_from_path(file_path, k, label_column)"
      ]
    }
  ]
}