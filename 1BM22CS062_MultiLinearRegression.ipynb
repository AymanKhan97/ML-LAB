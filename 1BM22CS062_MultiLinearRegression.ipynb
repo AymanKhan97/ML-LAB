{
  "nbformat": 4,
  "nbformat_minor": 0,
  "metadata": {
    "colab": {
      "provenance": [],
      "authorship_tag": "ABX9TyNwv2xcnUNi2AZPl20iVOh0",
      "include_colab_link": true
    },
    "kernelspec": {
      "name": "python3",
      "display_name": "Python 3"
    },
    "language_info": {
      "name": "python"
    }
  },
  "cells": [
    {
      "cell_type": "markdown",
      "metadata": {
        "id": "view-in-github",
        "colab_type": "text"
      },
      "source": [
        "<a href=\"https://colab.research.google.com/github/AymanKhan97/ML-LAB/blob/main/1BM22CS062_MultiLinearRegression.ipynb\" target=\"_parent\"><img src=\"https://colab.research.google.com/assets/colab-badge.svg\" alt=\"Open In Colab\"/></a>"
      ]
    },
    {
      "cell_type": "code",
      "execution_count": null,
      "metadata": {
        "id": "zw-Z8w1OPU8x"
      },
      "outputs": [],
      "source": [
        "import numpy as np\n",
        "import pandas as pd\n",
        "\n",
        "def multi_linear_regression(file_path, target_column):\n",
        "    df = pd.read_csv(file_path)\n",
        "    y = df[target_column].values.reshape(-1, 1)\n",
        "    X = df.drop(columns=[target_column]).values\n",
        "\n",
        "    # Add intercept term\n",
        "    X = np.c_[np.ones((X.shape[0], 1)), X]\n",
        "\n",
        "    # Normal Equation solution\n",
        "    theta = np.linalg.inv(X.T @ X) @ X.T @ y\n",
        "\n",
        "    y_pred = X @ theta\n",
        "    mse = np.mean((y - y_pred) ** 2)\n",
        "\n",
        "    print(\"\\n=== Multi-Linear Regression ===\")\n",
        "    print(\"Coefficients (including intercept):\", theta.flatten())\n",
        "    print(\"Mean Squared Error:\", mse)\n",
        "\n",
        "\n",
        "if __name__ == \"__main__\":\n",
        "    file_path = input(\"Enter path to CSV file: \").strip()\n",
        "    target_column = input(\"Enter the target column name: \").strip()\n",
        "    multi_linear_regression(file_path, target_column)"
      ]
    }
  ]
}